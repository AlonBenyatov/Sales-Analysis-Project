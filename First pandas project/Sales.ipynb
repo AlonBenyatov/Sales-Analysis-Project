{
 "cells": [
  {
   "cell_type": "code",
   "execution_count": null,
   "id": "5fb6f9fe",
   "metadata": {},
   "outputs": [],
   "source": [
    "import numpy as np \n",
    "import matplotlib.pyplot as plt\n",
    "import pandas as pd\n",
    "\n",
    "df= pd.read_csv('medium_sales.csv')\n",
    "df.head()\n",
    "#df.info() and df.describe()\n",
    "\n",
    "# we want to find revenue for each day and then \n",
    "# find the day with the highest revenue in the month\n",
    "# and then check profits for each day by comparing to last day\n",
    "daily_sales = df.groupby(\"Date\")[\"Sales\"].sum()\n",
    "profits = daily_sales.diff().fillna(0)\n",
    "# highest revenue day\n",
    "highest_revenue_day = daily_sales.idxmax()\n",
    "# highest revenue amount\n",
    "highest_revenue_amount = daily_sales.max()\n",
    "# printed results\n",
    "print(f\"Highest revenue day: {highest_revenue_day} with amount: ${highest_revenue_amount}\")\n",
    "# if profit is at 25% overall then:\n",
    "profit= profits.sum()\n",
    "total_sales = daily_sales.sum()\n",
    "\n",
    "\n"
   ]
  }
 ],
 "metadata": {
  "kernelspec": {
   "display_name": "Python 3",
   "language": "python",
   "name": "python3"
  },
  "language_info": {
   "codemirror_mode": {
    "name": "ipython",
    "version": 3
   },
   "file_extension": ".py",
   "mimetype": "text/x-python",
   "name": "python",
   "nbconvert_exporter": "python",
   "pygments_lexer": "ipython3",
   "version": "3.12.10"
  }
 },
 "nbformat": 4,
 "nbformat_minor": 5
}
